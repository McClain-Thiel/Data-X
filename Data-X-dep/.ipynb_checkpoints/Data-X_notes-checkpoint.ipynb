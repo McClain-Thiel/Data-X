{
 "cells": [
  {
   "cell_type": "raw",
   "metadata": {},
   "source": [
    "Paradigm: creates a system for large scale trading. papadigm.co\n",
    "    -Project #1: Give a time series of crypto prices, figure out what constitutes and event.\n",
    "    -Project #2: Automated news article enineering  "
   ]
  },
  {
   "cell_type": "raw",
   "metadata": {},
   "source": [
    "Amazon alexa project\n",
    "    -run my the main speaker\n",
    "    -prototype of Berkeley specific alexa skill\n",
    "    -potential projects:\n",
    "        -extend berkeley specific skill\n",
    "        -develop educational material"
   ]
  },
  {
   "cell_type": "raw",
   "metadata": {},
   "source": [
    "Resources:\n",
    "    -Data-x.blog > resources\n",
    "    -Cloud credits from AWS and Google cloud\n",
    "    -Datacamp.com (free premium accounts)\n",
    "    -python bootcamp\n",
    "    -textbook\n",
    "    -github education"
   ]
  },
  {
   "cell_type": "raw",
   "metadata": {},
   "source": [
    "TODO:\n",
    "    -resolve virtual enviroment \"data-x\"\n",
    "    - attendance: https://docs.google.com/forms/d/e/1FAIpQLSch0jiYL5qKyBD9cWnrfcm_cuXdj_Wl8YaWalLdy4KWh4R-Qw/viewform?fbzx=-6349729786010700439\n",
    "    -check github for ppt of the instructions\n",
    "    -setup github edu account"
   ]
  },
  {
   "cell_type": "raw",
   "metadata": {},
   "source": [
    "Introduction to the data-x notebook:\n",
    "    check other notebook"
   ]
  },
  {
   "cell_type": "raw",
   "metadata": {},
   "source": [
    "Datakalab project:\n",
    "    website analyitics \n",
    "    emotional product ranking\n",
    "    understand what people are feeling while they click or wander\n",
    "    cross analysis of the mouse to emotions\n",
    "    hot desking at skydeck\n",
    "    lucas_fischer@berkeley.edu"
   ]
  },
  {
   "cell_type": "raw",
   "metadata": {},
   "source": [
    "Introduction to numpy\n",
    "NumPy stands for Numerical Python and it is the fundamental package for scientific computing in Python. It is a package that lets you efficiently store and manipulate numerical arrays. It contains among other things:\n",
    "\n",
    "    a powerful N-dimensional array object\n",
    "    sophisticated (broadcasting) functions\n",
    "    tools for integrating C/C++ and Fortran code\n",
    "    useful linear algebra, Fourier transform, and random number capabilities"
   ]
  },
  {
   "cell_type": "code",
   "execution_count": 2,
   "metadata": {},
   "outputs": [
    {
     "data": {
      "text/plain": [
       "'1.15.1'"
      ]
     },
     "execution_count": 2,
     "metadata": {},
     "output_type": "execute_result"
    }
   ],
   "source": [
    "import numpy as np\n",
    "np.__version__\n"
   ]
  },
  {
   "cell_type": "code",
   "execution_count": 3,
   "metadata": {},
   "outputs": [
    {
     "data": {
      "text/plain": [
       "array([1, 2, 3, 4])"
      ]
     },
     "execution_count": 3,
     "metadata": {},
     "output_type": "execute_result"
    }
   ],
   "source": [
    "list1 = [1,2,3,4]\n",
    "data = np.array(list1)\n",
    "data"
   ]
  },
  {
   "cell_type": "code",
   "execution_count": 4,
   "metadata": {},
   "outputs": [
    {
     "data": {
      "text/plain": [
       "numpy.ndarray"
      ]
     },
     "execution_count": 4,
     "metadata": {},
     "output_type": "execute_result"
    }
   ],
   "source": [
    "type(data)"
   ]
  },
  {
   "cell_type": "code",
   "execution_count": 5,
   "metadata": {},
   "outputs": [
    {
     "data": {
      "text/plain": [
       "dtype('int64')"
      ]
     },
     "execution_count": 5,
     "metadata": {},
     "output_type": "execute_result"
    }
   ],
   "source": [
    "data.dtype"
   ]
  },
  {
   "cell_type": "code",
   "execution_count": 6,
   "metadata": {},
   "outputs": [
    {
     "data": {
      "text/plain": [
       "array([1, 2, 3, 4])"
      ]
     },
     "execution_count": 6,
     "metadata": {},
     "output_type": "execute_result"
    }
   ],
   "source": [
    "data"
   ]
  },
  {
   "cell_type": "code",
   "execution_count": 7,
   "metadata": {},
   "outputs": [
    {
     "data": {
      "text/plain": [
       "array([3, 2, 3, 4])"
      ]
     },
     "execution_count": 7,
     "metadata": {},
     "output_type": "execute_result"
    }
   ],
   "source": [
    "data[0] = 3.14159\n",
    "data"
   ]
  },
  {
   "cell_type": "raw",
   "metadata": {},
   "source": [
    "Eevrything is translated to c code so all c rules apply. Types are imutable. kinda"
   ]
  },
  {
   "cell_type": "code",
   "execution_count": 8,
   "metadata": {},
   "outputs": [
    {
     "name": "stdout",
     "output_type": "stream",
     "text": [
      "[1.2 2.  3.  4. ]\n",
      "float64\n"
     ]
    }
   ],
   "source": [
    "data2 = np.array([1.2,2,3,4,])\n",
    "print(data2)\n",
    "print(data2.dtype)"
   ]
  },
  {
   "cell_type": "code",
   "execution_count": 9,
   "metadata": {},
   "outputs": [],
   "source": [
    "data3 = np.array(['string'])"
   ]
  },
  {
   "cell_type": "raw",
   "metadata": {},
   "source": [
    "Array splicing works just like it does in normal python.\n",
    "[start:end:step size]\n",
    "numpy works in the heap. doesnt copy over. \n",
    "it all works on pointers. dont break anything\n",
    "use .copy to make copy"
   ]
  },
  {
   "cell_type": "raw",
   "metadata": {},
   "source": [
    "numpy is faster cuz in runs in c. refer to data-x/master/02a-tools-numpy for more"
   ]
  },
  {
   "cell_type": "code",
   "execution_count": null,
   "metadata": {},
   "outputs": [],
   "source": []
  }
 ],
 "metadata": {
  "kernelspec": {
   "display_name": "Python 3",
   "language": "python",
   "name": "python3"
  },
  "language_info": {
   "codemirror_mode": {
    "name": "ipython",
    "version": 3
   },
   "file_extension": ".py",
   "mimetype": "text/x-python",
   "name": "python",
   "nbconvert_exporter": "python",
   "pygments_lexer": "ipython3",
   "version": "3.7.2"
  }
 },
 "nbformat": 4,
 "nbformat_minor": 2
}
