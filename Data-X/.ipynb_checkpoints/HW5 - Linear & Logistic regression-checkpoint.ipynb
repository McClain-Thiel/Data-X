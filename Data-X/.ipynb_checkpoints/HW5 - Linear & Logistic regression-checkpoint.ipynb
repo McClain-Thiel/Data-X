{
 "cells": [
  {
   "cell_type": "markdown",
   "metadata": {},
   "source": [
    "# Data-X Spring 2019: Homework 05\n",
    "\n",
    "### Linear regression & Logistic regression\n",
    "\n",
    "\n",
    "\n",
    "## Name: McClain Thiel\n",
    "\n",
    "## SID: 3034003600\n",
    "\n",
    "\n",
    "\n",
    "\n",
    "In this homework, you will do some exercises on prediction using sklearn. \n",
    "\n",
    "REMEMBER TO DISPLAY ALL OUTPUTS. If the question asks you to do something, make sure to print your results.\n"
   ]
  },
  {
   "cell_type": "markdown",
   "metadata": {},
   "source": [
    "## Part 1 - Regression"
   ]
  },
  {
   "cell_type": "markdown",
   "metadata": {},
   "source": [
    "\n",
    "### Data:\n",
    "__Data Source__:\n",
    "Data file is uploaded to bCourses and is named: __Energy.csv__ \n",
    "(Link in the Assignment details page on Bcourses) \n",
    "\n",
    "The dataset was created by Angeliki Xifara ( Civil/Structural Engineer) and was processed by Athanasios Tsanas, Oxford Centre for Industrial and Applied Mathematics, University of Oxford, UK).\n",
    "\n",
    "__Data Description__:\n",
    "\n",
    "The dataset contains eight attributes of a building (or features, denoted by X1...X8) and response being the heating load on the building, y1. \n",
    "\n",
    "* X1\tRelative Compactness \n",
    "* X2\tSurface Area \n",
    "* X3\tWall Area \n",
    "*  X4\tRoof Area \n",
    "*  X5\tOverall Height \n",
    "* X6\tOrientation \n",
    "*  X7\tGlazing Area \n",
    "*  X8\tGlazing Area Distribution \n",
    "*  y1\tHeating Load \n"
   ]
  },
  {
   "cell_type": "markdown",
   "metadata": {},
   "source": [
    "#### Q1.1\n",
    "Read the data file from the csv.\n",
    "\n",
    "Print the count of NaN values for each attribute in the dataset.\n",
    "\n",
    "Print the Range (min, max) and percentiles (25th, 50th, and 75th) of each attribute in the dataset"
   ]
  },
  {
   "cell_type": "code",
   "execution_count": 35,
   "metadata": {},
   "outputs": [],
   "source": [
    "# your code\n",
    "import pandas as pd\n",
    "import numpy as np\n",
    "import matplotlib.pyplot as plt\n",
    "import scipy as sp\n",
    "\n",
    "df = pd.read_csv('Energy.csv')\n",
    "df.head()\n",
    "\n",
    "df.describe()\n",
    "\n",
    "import warnings\n",
    "warnings.filterwarnings('ignore')\n",
    "#spacer"
   ]
  },
  {
   "cell_type": "markdown",
   "metadata": {},
   "source": [
    " __REGRESSION__:\n",
    "\n",
    "Using the data, we want to predict \"Heating load\". The output variable is continuous. Hence, we need to use a regression algorithm.  \n",
    "\n",
    "__Q 1.2:__ \n",
    "\n",
    "Split the dataset randomly into train and test. Train a **Linear Regression** model on 80% of the data (80-20 split).\n",
    "What is the intercept and coefficient values?\n",
    "\n"
   ]
  },
  {
   "cell_type": "code",
   "execution_count": 36,
   "metadata": {},
   "outputs": [],
   "source": [
    "# your code\n",
    "from sklearn.model_selection import train_test_split\n",
    "\n",
    "#simplifying naming\n",
    "x1, x2, x3, x4, x5, x6, x7, x8, y = df['X1'],df['X2'],df['X3'],df['X4'],df['X5'],df['X6'],df['X7'],df['X8'],df['Y1'],\n",
    "\n",
    "X = np.array([x1,x2,x3,x4,x5,x6,x7,x8])\n",
    "Y = np.array(y)\n",
    "\n",
    "X = X.transpose()\n",
    "\n",
    "x_train, x_test, y_train, y_test= train_test_split(X, y, test_size=0.2, random_state=100)\n",
    "\n",
    "\n"
   ]
  },
  {
   "cell_type": "code",
   "execution_count": 37,
   "metadata": {},
   "outputs": [
    {
     "name": "stdout",
     "output_type": "stream",
     "text": [
      "LinearRegression(copy_X=True, fit_intercept=True, n_jobs=None,\n",
      "         normalize=False)\n",
      "The score was 0.9094940669491967\n",
      "The intercept was 79.13116174147359\n",
      "The coefficient values are [-6.33926290e+01 -5.86380428e-02  3.46024306e-02 -4.66202367e-02\n",
      "  4.36194652e+00  1.81224259e-02  1.98760201e+01  2.19167208e-01]\n"
     ]
    }
   ],
   "source": [
    "from sklearn import linear_model\n",
    "model = linear_model.LinearRegression()\n",
    "print(model.fit(x_train, y_train))\n",
    "print('The score was ' +  str(model.score(x_test, y_test)))\n",
    "print('The intercept was ' + str(model.intercept_))\n",
    "print('The coefficient values are ' + str(model.coef_))"
   ]
  },
  {
   "cell_type": "code",
   "execution_count": null,
   "metadata": {},
   "outputs": [],
   "source": []
  },
  {
   "cell_type": "markdown",
   "metadata": {},
   "source": [
    "\n",
    "#### Q.1.3: \n",
    "\n",
    "Create a function which takes arrays of prediction and actual values of the output as parameters to calculate **'Root Mean Square error'** (RMSE) metric:  \n",
    "\n",
    "1. Use the function to calculate the training RMSE  \n",
    "2. Use the function to calculate the test RMSE\n",
    "\n"
   ]
  },
  {
   "cell_type": "code",
   "execution_count": 38,
   "metadata": {},
   "outputs": [
    {
     "name": "stdout",
     "output_type": "stream",
     "text": [
      "RMSE for training data is  2.523415058415105e-13\n",
      "RMSE for testing data is  1.2259224747687392\n"
     ]
    }
   ],
   "source": [
    "# your code\n",
    "\n",
    "pred1 = model.predict(x_train)\n",
    "pred2 = model.predict(x_test)\n",
    "\n",
    "def RMSE(pred, actual):\n",
    "    s = (sum(pred - actual)**2)/pred.size\n",
    "    return s**.5\n",
    "    \n",
    "print('RMSE for training data is ', RMSE(pred1, y_train))\n",
    "print('RMSE for testing data is ', RMSE(pred2, y_test))\n",
    "\n"
   ]
  },
  {
   "cell_type": "markdown",
   "metadata": {},
   "source": [
    "\n",
    "#### Q1.4: \n",
    "\n",
    "Let's see the effect of amount of data on the performance of prediction model. Use varying amounts of data (100,200,300,400,500,all) from the training data you used previously to train different regression models. Report  training error and test error in each case. Test data  is the same as above for  all  these cases.\n",
    "\n",
    "**Plot error rates vs number of training examples.** Both the training error and the test error should be plotted. Comment on the relationship you observe between the amount of data used to train the model and the test accuracy of the model.\n",
    "\n",
    "__Hint:__ Use array indexing to choose varying data amounts"
   ]
  },
  {
   "cell_type": "code",
   "execution_count": 39,
   "metadata": {},
   "outputs": [
    {
     "name": "stdout",
     "output_type": "stream",
     "text": [
      "RMSE for training data is  9.109895958244898  for  training on  100  values.\n",
      "RMSE for testing data is  4.2456857853810845  for  training on  100  values.\n",
      "RMSE for training data is  0.02942263973160135  for  training on  200  values.\n",
      "RMSE for testing data is  1.1003920704322423  for  training on  200  values.\n",
      "RMSE for training data is  2.1921138608752777  for  training on  300  values.\n",
      "RMSE for testing data is  0.19674948307672882  for  training on  300  values.\n",
      "RMSE for training data is  2.3951569468145455  for  training on  400  values.\n",
      "RMSE for testing data is  0.32443641266109935  for  training on  400  values.\n",
      "RMSE for training data is  0.28545134544544354  for  training on  500  values.\n",
      "RMSE for testing data is  1.0921559743977671  for  training on  500  values.\n",
      "RMSE for training data is  2.523415058415105e-13  for  training on  614  values.\n",
      "RMSE for testing data is  1.2259224747687392  for  training on  614  values.\n"
     ]
    }
   ],
   "source": [
    "# your code\n",
    "def models(num_examples):\n",
    "    if num_examples == 'all':\n",
    "        num_examples = y_train.size\n",
    "    \n",
    "    x_train1 = x_train[0:num_examples][0:]\n",
    "    y_train1 = y_train[0:num_examples]\n",
    "    model = linear_model.LinearRegression()\n",
    "    model.fit(x_train1, y_train1)\n",
    "    pred1 = model.predict(x_train)\n",
    "    pred2 = model.predict(x_test)\n",
    "    print('RMSE for training data is ', RMSE(pred1, y_train), ' for  training on ', num_examples, ' values.')\n",
    "    print('RMSE for testing data is ', RMSE(pred2, y_test), ' for  training on ', num_examples, ' values.')\n",
    "\n",
    "models(100)\n",
    "models(200)\n",
    "models(300)\n",
    "models(400)\n",
    "models(500)\n",
    "models('all')"
   ]
  },
  {
   "cell_type": "markdown",
   "metadata": {},
   "source": [
    "## Part 2 - Classification"
   ]
  },
  {
   "cell_type": "markdown",
   "metadata": {},
   "source": [
    "\n",
    "__CLASSIFICATION__:\n",
    "LABELS ARE DISCRETE VALUES.\n",
    "\n",
    "Here the model is trained to classify each instance into a set of predefined discrete classes. On inputting a feature vector into the model, the trained model is able to predict a class of that instance.\n",
    "\n",
    "\n",
    "#### Q2.1\n",
    "Bucket the values of 'y1' i.e 'Heating Load'  from the original dataset into 3 classes:\n",
    "\n",
    "0: 'Low' ( < 14),   \n",
    "1: 'Medium'  (14-28),   \n",
    "2: 'High'  (>28)\n",
    "\n",
    "**HINT:** Use pandas.cut\n",
    "\n",
    "This converts the given dataset  into a classification problem. Use this dataset with transformed 'heating load' to create a **logistic regression** classifiction model that predicts heating load type of a building. Split the data randomly into training and test set. Train the model on 80% of the data (80-20 split).\n"
   ]
  },
  {
   "cell_type": "code",
   "execution_count": 40,
   "metadata": {},
   "outputs": [
    {
     "data": {
      "text/plain": [
       "LogisticRegression(C=1.0, class_weight=None, dual=False, fit_intercept=True,\n",
       "          intercept_scaling=1, max_iter=100, multi_class='warn',\n",
       "          n_jobs=None, penalty='l2', random_state=None, solver='warn',\n",
       "          tol=0.0001, verbose=0, warm_start=False)"
      ]
     },
     "execution_count": 40,
     "metadata": {},
     "output_type": "execute_result"
    }
   ],
   "source": [
    "# your code\n",
    "\n",
    "bins = [0,14,28,100]  #= pd.IntervalIndex.from_tuples([(0,14), (14, 28), (28, 100)])\n",
    "yn = pd.cut(y, bins, labels=[\"low\", \"medium\", \"high\"])\n",
    "Yn = np.array(yn)\n",
    "\n",
    "x_trainC, x_testC, y_trainC, y_testC= train_test_split(X, Yn, test_size=0.2, random_state=100)\n",
    "\n",
    "log = linear_model.LogisticRegression()\n",
    "log.fit(x_trainC, y_trainC)\n"
   ]
  },
  {
   "cell_type": "markdown",
   "metadata": {},
   "source": [
    "#### Q2.2 \n",
    "- Print the training and test accuracies\n",
    "- Print the confusion matrix\n",
    "- Print the precision and recall numbers for all the classes\n"
   ]
  },
  {
   "cell_type": "code",
   "execution_count": 41,
   "metadata": {},
   "outputs": [
    {
     "name": "stdout",
     "output_type": "stream",
     "text": [
      "Training accuracy is  0.8061889250814332\n",
      "Testing accuracy is  0.7727272727272727\n",
      "confustion matrix:\n",
      "[[228   0   0]\n",
      " [  0 170   5]\n",
      " [ 71  43  97]]\n",
      "              precision    recall  f1-score   support\n",
      "\n",
      "        high       0.76      1.00      0.87       228\n",
      "         low       0.80      0.97      0.88       175\n",
      "      medium       0.95      0.46      0.62       211\n",
      "\n",
      "   micro avg       0.81      0.81      0.81       614\n",
      "   macro avg       0.84      0.81      0.79       614\n",
      "weighted avg       0.84      0.81      0.78       614\n",
      "\n"
     ]
    }
   ],
   "source": [
    "# your code\n",
    "from sklearn.metrics import confusion_matrix, classification_report\n",
    "\n",
    "train_ac = log.score(x_trainC, y_trainC)\n",
    "test_ac = log.score(x_testC, y_testC)\n",
    "\n",
    "print('Training accuracy is ', train_ac)\n",
    "print('Testing accuracy is ', test_ac)\n",
    "predict = log.predict(x_trainC)\n",
    "\n",
    "print('confustion matrix:')\n",
    "print(confusion_matrix(y_trainC, predict))\n",
    "print(classification_report(y_trainC, predict))\n",
    "\n"
   ]
  },
  {
   "cell_type": "markdown",
   "metadata": {},
   "source": [
    "#### Q2.3\n",
    "##### K Fold Cross Validation\n",
    "\n",
    " In k-fold cross-validation, the shuffled training data is partitioned into k disjoint sets and the model is trained on k −1 sets and validated on the kth set. This process is repeated k times with each set chosen as the validation set once. The cross-validation accuracy is reported as the average accuracy of the k iterations\n",
    " \n",
    "__Use 7-fold cross validation on the training data. Print the average accuracy__"
   ]
  },
  {
   "cell_type": "code",
   "execution_count": 59,
   "metadata": {},
   "outputs": [
    {
     "name": "stdout",
     "output_type": "stream",
     "text": [
      "Avg training accuracy:  82.8125 %\n",
      "Avg testing accuracy:  82.8125 %\n"
     ]
    }
   ],
   "source": [
    "# your code\n",
    "from sklearn.model_selection import KFold\n",
    "\n",
    "kf = KFold(n_splits = 7, shuffle=True)\n",
    "\n",
    "log = linear_model.LogisticRegression()\n",
    "train_acc = []\n",
    "test_acc = []\n",
    "\n",
    "xTrainM = []\n",
    "xTestM = []\n",
    "yTrainM =[]\n",
    "yTestM =[]\n",
    "\n",
    "for train_index, test_index in kf.split(X):\n",
    "    x_trainC2, x_testC2 = X[train_index], X[test_index]\n",
    "    y_trainC2, y_testC2 = Yn[train_index], Yn[test_index]\n",
    "    xTrainM.extend(x_trainC2)\n",
    "    xTestM.extend(x_testC2)\n",
    "    yTrainM.extend(y_trainC2)\n",
    "    yTestM.extend(y_testC2)\n",
    "    \n",
    "log.fit(xTrainM, yTrainM)\n",
    "train_ac = log.score(xTrainM, yTrainM)\n",
    "test_ac = log.score(xTestM, yTestM)\n",
    "\n",
    "    \n",
    "'''\n",
    "for train_index, test_index in kf.split(X):\n",
    "    x_trainC2, x_testC2 = X[train_index], X[test_index]\n",
    "    y_trainC2, y_testC2 = Yn[train_index], Yn[test_index]\n",
    "    log.fit(x_trainC2, y_trainC2)\n",
    "    train_ac = log.score(x_trainC2, y_trainC2)\n",
    "    test_ac = log.score(x_testC2, y_testC2)\n",
    "    train_acc.append(train_ac)\n",
    "    test_acc.append(test_ac)\n",
    "    \n",
    "'''\n",
    "    \n",
    "print('Avg training accuracy: ', train_ac*100, \"%\")\n",
    "print('Avg testing accuracy: ', test_ac*100, \"%\")\n"
   ]
  },
  {
   "cell_type": "markdown",
   "metadata": {},
   "source": [
    "__Q2.4__\n",
    "\n",
    "One of the preprocessing steps in Data science is Feature Scaling i.e getting all our data on the same scale by setting same  Min-Max of feature values. \n",
    "This makes training less sensitive to the scale of features . \n",
    "Scaling is important in algorithms that use distance functions as a part of classification. If we Scale features in the range [0,1] it is called unity based normalization.\n",
    "\n",
    "__Perform unity based normalization on the above dataset and train the model again, compare model performance in training and validation with your previous model.__  \n",
    "\n",
    "refer:http://scikit-learn.org/stable/modules/preprocessing.html#preprocessing-scaler  \n",
    "more at: https://en.wikipedia.org/wiki/Feature_scaling"
   ]
  },
  {
   "cell_type": "code",
   "execution_count": 53,
   "metadata": {},
   "outputs": [
    {
     "name": "stdout",
     "output_type": "stream",
     "text": [
      "Training accuracy is:  0.7117263843648208\n",
      "Testing accuracy is:  0.6493506493506493\n"
     ]
    }
   ],
   "source": [
    "# your code\n",
    "from sklearn.preprocessing import normalize\n",
    "X2 = normalize(X)\n",
    "\n",
    "x2_trainC, x2_testC, y_trainC, y_testC= train_test_split(X2, Yn, test_size=0.2, random_state=100)\n",
    "\n",
    "log = linear_model.LogisticRegression()\n",
    "log.fit(x2_trainC, y_trainC)\n",
    "\n",
    "train_ac = log.score(x2_trainC, y_trainC)\n",
    "test_ac = log.score(x2_testC, y_testC)\n",
    "\n",
    "print('Training accuracy is: ' , train_ac)\n",
    "print('Testing accuracy is: ', test_ac)"
   ]
  },
  {
   "cell_type": "code",
   "execution_count": null,
   "metadata": {},
   "outputs": [],
   "source": []
  }
 ],
 "metadata": {
  "kernel_info": {
   "name": "data-x"
  },
  "kernelspec": {
   "display_name": "Python 3",
   "language": "python",
   "name": "python3"
  },
  "language_info": {
   "codemirror_mode": {
    "name": "ipython",
    "version": 3
   },
   "file_extension": ".py",
   "mimetype": "text/x-python",
   "name": "python",
   "nbconvert_exporter": "python",
   "pygments_lexer": "ipython3",
   "version": "3.7.2"
  },
  "nteract": {
   "version": "0.7.1"
  }
 },
 "nbformat": 4,
 "nbformat_minor": 2
}
